{
 "cells": [
  {
   "metadata": {},
   "cell_type": "markdown",
   "source": [
    "# Table round trip for performance testing\n",
    "\n",
    "This notebook is used to create the data for a \"table round-trip\", used for performance testing in the `/query` endpoint in the thesis *Performance and price comparison of three popular backend frameworks and the AWS serverless stack*.\n",
    "\n",
    "The data is created directly in a AWS DynamoDB table with the given name.\n",
    "\n",
    "The AWS credentials can be set using the `AWS_ACCESS_KEY_ID` and `AWS_SECRET_ACCESS_KEY` environment variables.\n",
    "\n",
    "The primary key of the first item is printed at the end of the notebook."
   ],
   "id": "3a049d29a6c70195"
  },
  {
   "metadata": {
    "ExecuteTime": {
     "end_time": "2024-04-28T16:02:17.668675Z",
     "start_time": "2024-04-28T16:02:17.544572Z"
    }
   },
   "cell_type": "code",
   "source": [
    "import boto3\n",
    "from botocore.config import Config\n",
    "import uuid"
   ],
   "id": "723b3b01f0b4121e",
   "outputs": [],
   "execution_count": 4
  },
  {
   "metadata": {
    "ExecuteTime": {
     "end_time": "2024-04-28T16:02:17.684756Z",
     "start_time": "2024-04-28T16:02:17.669760Z"
    }
   },
   "cell_type": "code",
   "source": [
    "# Settings\n",
    "ROUND_TRIP_LENGTH = 200 # Number of queries that need to be performed to get back to the first primary key\n",
    "TABLE_NAME = 'round-trip-table'"
   ],
   "id": "d2b78d705b18b75e",
   "outputs": [],
   "execution_count": 5
  },
  {
   "metadata": {
    "ExecuteTime": {
     "end_time": "2024-04-28T16:02:17.778872Z",
     "start_time": "2024-04-28T16:02:17.685758Z"
    }
   },
   "cell_type": "code",
   "source": [
    "# Connect to DynamoDB using the boto3 client\n",
    "botoConfig = Config(\n",
    "    region_name = 'eu-central-1',\n",
    "    signature_version = 'v4',\n",
    "    retries = {\n",
    "        'max_attempts': 10,\n",
    "        'mode': 'standard'\n",
    "    }\n",
    ")\n",
    "dynamodb = boto3.client('dynamodb', config=botoConfig)"
   ],
   "id": "db9866572f0d706d",
   "outputs": [],
   "execution_count": 6
  },
  {
   "metadata": {
    "ExecuteTime": {
     "end_time": "2024-04-28T16:02:18.073142Z",
     "start_time": "2024-04-28T16:02:17.779887Z"
    }
   },
   "cell_type": "code",
   "source": [
    "# Check if the table already exists\n",
    "response = dynamodb.list_tables()\n",
    "if TABLE_NAME in response['TableNames']:\n",
    "    print('Table already exists')\n",
    "else:\n",
    "    print('Table does not exist')"
   ],
   "id": "de5a59c6bb91d195",
   "outputs": [
    {
     "name": "stdout",
     "output_type": "stream",
     "text": [
      "Table already exists\n"
     ]
    }
   ],
   "execution_count": 7
  },
  {
   "metadata": {
    "ExecuteTime": {
     "end_time": "2024-04-28T16:02:18.151109Z",
     "start_time": "2024-04-28T16:02:18.074147Z"
    }
   },
   "cell_type": "code",
   "source": [
    "# Delete the table if it already exists\n",
    "if TABLE_NAME in response['TableNames']:\n",
    "    response = dynamodb.delete_table(\n",
    "        TableName=TABLE_NAME\n",
    "    )\n",
    "    print('Table deleted')"
   ],
   "id": "3506dc2c8e5d81a5",
   "outputs": [
    {
     "name": "stdout",
     "output_type": "stream",
     "text": [
      "Table deleted\n"
     ]
    }
   ],
   "execution_count": 8
  },
  {
   "metadata": {
    "ExecuteTime": {
     "end_time": "2024-04-28T16:02:38.264961Z",
     "start_time": "2024-04-28T16:02:18.152109Z"
    }
   },
   "cell_type": "code",
   "source": [
    "# Wait for the table to be deleted (can take a few seconds)\n",
    "waiter = dynamodb.get_waiter('table_not_exists')\n",
    "waiter.wait(\n",
    "    TableName=TABLE_NAME\n",
    ")"
   ],
   "id": "a6b6aa7de46cdd48",
   "outputs": [],
   "execution_count": 9
  },
  {
   "metadata": {
    "ExecuteTime": {
     "end_time": "2024-04-28T16:02:38.327565Z",
     "start_time": "2024-04-28T16:02:38.265963Z"
    }
   },
   "cell_type": "code",
   "source": [
    "# Create the table\n",
    "response = dynamodb.create_table(\n",
    "    TableName=TABLE_NAME,\n",
    "    KeySchema=[\n",
    "        {\n",
    "            'AttributeName': 'primary_key',\n",
    "            'KeyType': 'HASH'\n",
    "        }\n",
    "    ],\n",
    "    AttributeDefinitions=[\n",
    "        {\n",
    "            'AttributeName': 'primary_key',\n",
    "            'AttributeType': 'S'\n",
    "        }\n",
    "    ],\n",
    "    BillingMode='PAY_PER_REQUEST'\n",
    ")"
   ],
   "id": "a581d30a9159c86c",
   "outputs": [],
   "execution_count": 10
  },
  {
   "metadata": {
    "ExecuteTime": {
     "end_time": "2024-04-28T16:02:58.411379Z",
     "start_time": "2024-04-28T16:02:38.328577Z"
    }
   },
   "cell_type": "code",
   "source": [
    "# Wait for the table to be created (can take a few seconds)\n",
    "waiter = dynamodb.get_waiter('table_exists')\n",
    "waiter.wait(\n",
    "    TableName=TABLE_NAME\n",
    ")"
   ],
   "id": "7848fb26321dd277",
   "outputs": [],
   "execution_count": 11
  },
  {
   "metadata": {
    "ExecuteTime": {
     "end_time": "2024-04-28T16:03:03.644428Z",
     "start_time": "2024-04-28T16:02:58.412381Z"
    }
   },
   "cell_type": "code",
   "source": [
    "# Generate initial UUID\n",
    "initial_primary_key = str(uuid.uuid4())\n",
    "current_primary_key = initial_primary_key\n",
    "next_primary_key = str(uuid.uuid4())\n",
    "\n",
    "# Loop to generate the items\n",
    "for i in range(ROUND_TRIP_LENGTH - 1):\n",
    "    response = dynamodb.put_item(\n",
    "        TableName=TABLE_NAME,\n",
    "        Item={\n",
    "            'primary_key': {'S': current_primary_key},\n",
    "            'next_primary_key': {'S': next_primary_key}\n",
    "        }\n",
    "    )\n",
    "    current_primary_key = next_primary_key # the primary key of the next item is the key we just set as the next primary key\n",
    "    next_primary_key = str(uuid.uuid4()) # generate a new UUID for the new next primary key\n",
    "    \n",
    "# insert last item with the initial primary key as the next primary key to complete the round trip\n",
    "response = dynamodb.put_item(\n",
    "    TableName=TABLE_NAME,\n",
    "    Item={\n",
    "        'primary_key': {'S': current_primary_key},\n",
    "        'next_primary_key': {'S': initial_primary_key}\n",
    "    }\n",
    ")"
   ],
   "id": "2a93dc7912ff3cc2",
   "outputs": [],
   "execution_count": 12
  },
  {
   "metadata": {
    "ExecuteTime": {
     "end_time": "2024-04-28T16:03:03.659858Z",
     "start_time": "2024-04-28T16:03:03.645362Z"
    }
   },
   "cell_type": "code",
   "source": [
    "# Print the initial primary key\n",
    "print(\"The inital primary key is: \" + initial_primary_key)"
   ],
   "id": "db675ee42f034b4c",
   "outputs": [
    {
     "name": "stdout",
     "output_type": "stream",
     "text": [
      "The inital primary key is: 038aca33-a8c0-4b5d-8543-cc50b8f4895c\n"
     ]
    }
   ],
   "execution_count": 13
  }
 ],
 "metadata": {
  "kernelspec": {
   "display_name": "Python 3",
   "language": "python",
   "name": "python3"
  },
  "language_info": {
   "codemirror_mode": {
    "name": "ipython",
    "version": 2
   },
   "file_extension": ".py",
   "mimetype": "text/x-python",
   "name": "python",
   "nbconvert_exporter": "python",
   "pygments_lexer": "ipython2",
   "version": "2.7.6"
  }
 },
 "nbformat": 4,
 "nbformat_minor": 5
}
