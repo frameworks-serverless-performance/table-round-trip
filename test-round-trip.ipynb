{
 "cells": [
  {
   "metadata": {},
   "cell_type": "markdown",
   "source": [
    "## Test for the round trip\n",
    "\n",
    "This notebook tests the round trip. The initial primary key output by the create-round-trip-data notebook needs to be provided."
   ],
   "id": "3a049d29a6c70195"
  },
  {
   "metadata": {
    "ExecuteTime": {
     "end_time": "2024-04-28T16:15:41.313231Z",
     "start_time": "2024-04-28T16:15:41.301718Z"
    }
   },
   "cell_type": "code",
   "source": [
    "import boto3\n",
    "from botocore.config import Config"
   ],
   "id": "723b3b01f0b4121e",
   "outputs": [],
   "execution_count": 31
  },
  {
   "metadata": {
    "ExecuteTime": {
     "end_time": "2024-04-28T16:15:41.328232Z",
     "start_time": "2024-04-28T16:15:41.314231Z"
    }
   },
   "cell_type": "code",
   "source": [
    "# Constants\n",
    "table_name = 'round-trip-table'\n",
    "initial_primary_key = \"038aca33-a8c0-4b5d-8543-cc50b8f4895c\""
   ],
   "id": "d2b78d705b18b75e",
   "outputs": [],
   "execution_count": 32
  },
  {
   "metadata": {
    "ExecuteTime": {
     "end_time": "2024-04-28T16:15:41.344230Z",
     "start_time": "2024-04-28T16:15:41.329233Z"
    }
   },
   "cell_type": "code",
   "source": [
    "# Connect to DynamoDB using the boto3 client\n",
    "botoConfig = Config(\n",
    "    region_name = 'eu-central-1',\n",
    "    signature_version = 'v4',\n",
    "    retries = {\n",
    "        'max_attempts': 10,\n",
    "        'mode': 'standard'\n",
    "    }\n",
    ")\n",
    "dynamodb = boto3.client('dynamodb', config=botoConfig)"
   ],
   "id": "db9866572f0d706d",
   "outputs": [],
   "execution_count": 33
  },
  {
   "metadata": {
    "ExecuteTime": {
     "end_time": "2024-04-28T16:15:41.627124Z",
     "start_time": "2024-04-28T16:15:41.345230Z"
    }
   },
   "cell_type": "code",
   "source": [
    "# Check if the table exists\n",
    "response = dynamodb.list_tables()\n",
    "if table_name not in response['TableNames']:\n",
    "    Exception(\"Table does not exist\")\n",
    "else:\n",
    "    print(\"Table exists\")"
   ],
   "id": "de5a59c6bb91d195",
   "outputs": [
    {
     "name": "stdout",
     "output_type": "stream",
     "text": [
      "Table exists\n"
     ]
    }
   ],
   "execution_count": 34
  },
  {
   "metadata": {
    "ExecuteTime": {
     "end_time": "2024-04-28T16:15:46.753485Z",
     "start_time": "2024-04-28T16:15:41.628127Z"
    }
   },
   "cell_type": "code",
   "source": [
    "# We can now test the round trip by querying the table\n",
    "current_primary_key = initial_primary_key\n",
    "counter = 0\n",
    "while True:\n",
    "    counter += 1\n",
    "    response = dynamodb.get_item(\n",
    "        TableName=table_name,\n",
    "        Key={\n",
    "            'primary_key': {'S': current_primary_key}\n",
    "        }\n",
    "    )\n",
    "    current_primary_key = response['Item']['next_primary_key']['S']\n",
    "    if current_primary_key == initial_primary_key:\n",
    "        break\n",
    "\n",
    "print(\"The round trip took \" + str(counter) + \" queries\")"
   ],
   "id": "fe14e43f942746",
   "outputs": [
    {
     "name": "stdout",
     "output_type": "stream",
     "text": [
      "The round trip took 200 queries\n"
     ]
    }
   ],
   "execution_count": 35
  }
 ],
 "metadata": {
  "kernelspec": {
   "display_name": "Python 3",
   "language": "python",
   "name": "python3"
  },
  "language_info": {
   "codemirror_mode": {
    "name": "ipython",
    "version": 2
   },
   "file_extension": ".py",
   "mimetype": "text/x-python",
   "name": "python",
   "nbconvert_exporter": "python",
   "pygments_lexer": "ipython2",
   "version": "2.7.6"
  }
 },
 "nbformat": 4,
 "nbformat_minor": 5
}
